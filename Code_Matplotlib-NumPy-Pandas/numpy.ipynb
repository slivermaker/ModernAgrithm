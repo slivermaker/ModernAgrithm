{
 "cells": [
  {
   "cell_type": "markdown",
   "metadata": {},
   "source": [
    "## 1\\. Numpy是什么？[](https://gengzhige-essay.readthedocs.io/docs/01%20%E7%8E%AF%E5%A2%83%E9%85%8D%E7%BD%AE/1-5%20Numpy%E6%95%99%E7%A8%8B.html#id1 \"永久链接至标题\")\n",
    "\n",
    "**Numerical Python** 的缩写\n",
    "\n",
    "-   一个开源的Python科学计算库\n",
    "    \n",
    "-   使用numpy可以方便的使用数组、矩阵进行计算\n",
    "    \n",
    "-   包含线性代数、傅里叶变换、随机数生成等大量函数\n",
    "    \n",
    "\n",
    "## 2\\. 为什么使用Numpy？[](https://gengzhige-essay.readthedocs.io/docs/01%20%E7%8E%AF%E5%A2%83%E9%85%8D%E7%BD%AE/1-5%20Numpy%E6%95%99%E7%A8%8B.html#id2 \"永久链接至标题\")\n",
    "\n",
    "对于同样的数值计算任务，使用numpy比直接编写python代码实现 优点：\n",
    "\n",
    "-   代码更简洁： numpy直接以数组、矩阵为粒度计算并且支持大量的数学函数，而python需要用for循环从底层实现；\n",
    "    \n",
    "-   性能更高效： numpy的数组存储效率和输入输出计算性能，比python使用list好很多；numpy的大部分代码都是c语言实现的，这是numpy比python高效的原因\n",
    "    \n",
    "\n",
    "numpy是python各种数据科学类库的基础库\n",
    "\n",
    "-   比如SciPy、Scikit-Learn、tenorflow、paddlepaddle等\n",
    "    \n",
    "-   如果不会numpy，这些库的深入理解都会遇到障碍"
   ]
  },
  {
   "cell_type": "code",
   "execution_count": 1,
   "metadata": {},
   "outputs": [],
   "source": [
    "import numpy as np"
   ]
  },
  {
   "cell_type": "code",
   "execution_count": 3,
   "metadata": {},
   "outputs": [
    {
     "name": "stdout",
     "output_type": "stream",
     "text": [
      "[0, 2, 12, 36, 80]\n"
     ]
    }
   ],
   "source": [
    "#原生语法实现\n",
    "def _sum(n):\n",
    "    a=[i**2 for i in range(n)]\n",
    "    b=[i**3 for i in range(n)]\n",
    "    c=[a[i]+b[i] for i in range(n)]\n",
    "    return c\n",
    "print(_sum(5))"
   ]
  },
  {
   "cell_type": "code",
   "execution_count": 7,
   "metadata": {},
   "outputs": [
    {
     "name": "stdout",
     "output_type": "stream",
     "text": [
      "[ 0  2 12 36 80]\n"
     ]
    }
   ],
   "source": [
    "#numpy实现\n",
    "def __sum(n):\n",
    "    a=np.arange(n)**2\n",
    "    b=np.arange(n)**3\n",
    "    return a+b\n",
    "print(__sum(5))"
   ]
  },
  {
   "cell_type": "markdown",
   "metadata": {},
   "source": [
    "### ndarray对象：[](https://gengzhige-essay.readthedocs.io/docs/01%20%E7%8E%AF%E5%A2%83%E9%85%8D%E7%BD%AE/1-5%20Numpy%E6%95%99%E7%A8%8B.html#ndarray \"永久链接至标题\")\n",
    "\n",
    "-   numpy的核心数据结构，叫做array就是数组，array对象可以是一维数组，也可以是多维数组\n",
    "    \n",
    "-   python的list也可以实现相同的功能，但是array的优势在于性能好，包含数组元数据信息、大量的便捷函数\n",
    "    \n",
    "-   成为 Scipy、Pandas、scilit-learn、tensorflow、paddlepaddle等框架的通用底层语言\n",
    "    \n",
    "-   numpy的array和python的list的一个区别是它的元素必须都是同一种数据类型，这也是numpy高性能的一个原因\n",
    "    \n",
    "\n",
    "### ndarray属性[](https://gengzhige-essay.readthedocs.io/docs/01%20%E7%8E%AF%E5%A2%83%E9%85%8D%E7%BD%AE/1-5%20Numpy%E6%95%99%E7%A8%8B.html#id4 \"永久链接至标题\")\n",
    "\n",
    "-   shape 返回一个元组 表示array的形状\n",
    "    \n",
    "-   ndim 返回一个数字 表示array的维度的数目\n",
    "    \n",
    "-   size 返回一个数字 表示array中所有数据元素的数目\n",
    "    \n",
    "-   dtype array中元素的数据类型\n",
    "    \n",
    "-   itemsize 表示数组中每个元素的字节大小\n",
    "    \n",
    "\n",
    "### array本身支持的大量操作和函数[](https://gengzhige-essay.readthedocs.io/docs/01%20%E7%8E%AF%E5%A2%83%E9%85%8D%E7%BD%AE/1-5%20Numpy%E6%95%99%E7%A8%8B.html#array \"永久链接至标题\")\n",
    "\n",
    "-   直接逐元素的加减乘除等算数操作\n",
    "    \n",
    "-   更好用的面向多维的数组索引\n",
    "    \n",
    "-   求sum/mean等聚合函数\n",
    "    \n",
    "-   线性代数函数、比如求解逆矩阵、求解方程组\n",
    "    \n",
    "\n",
    "## 6\\. 创建array的方法[](https://gengzhige-essay.readthedocs.io/docs/01%20%E7%8E%AF%E5%A2%83%E9%85%8D%E7%BD%AE/1-5%20Numpy%E6%95%99%E7%A8%8B.html#id5 \"永久链接至标题\")\n",
    "\n",
    "-   从Python的列表list和嵌套列表创建array\n",
    "    \n",
    "-   使用预定函数arange、linspace等创建等差数组\n",
    "    \n",
    "-   使用ones、ones\\_like、zeros、zeros\\_like、empty、empty\\_like、full、full\\_like、eye等函数创建\n",
    "    \n",
    "-   生成随机数的np.random模块创建"
   ]
  },
  {
   "cell_type": "code",
   "execution_count": 10,
   "metadata": {},
   "outputs": [
    {
     "data": {
      "text/plain": [
       "array([1, 2, 3, 4, 5])"
      ]
     },
     "execution_count": 10,
     "metadata": {},
     "output_type": "execute_result"
    }
   ],
   "source": [
    "import numpy as np\n",
    "\n",
    "x= np.array([1,2,3,4,5])\n",
    "x\n"
   ]
  },
  {
   "cell_type": "code",
   "execution_count": 11,
   "metadata": {},
   "outputs": [
    {
     "data": {
      "text/plain": [
       "array([[1, 2, 3, 4],\n",
       "       [5, 6, 6, 7]])"
      ]
     },
     "execution_count": 11,
     "metadata": {},
     "output_type": "execute_result"
    }
   ],
   "source": [
    "y=np.array([\n",
    "    [1,2,3,4],\n",
    "    [5,6,6,7]\n",
    "])\n",
    "y"
   ]
  },
  {
   "cell_type": "code",
   "execution_count": 23,
   "metadata": {},
   "outputs": [
    {
     "name": "stdout",
     "output_type": "stream",
     "text": [
      "2   4\n",
      "5\n",
      "数据个数 8\n",
      "维数 2\n"
     ]
    }
   ],
   "source": [
    "m,n=y.shape\n",
    "print(\"{}   {}\".format( m,n))\n",
    "mm=x.shape[0]\n",
    "print(mm)#返回是数组格式返回选择返回第几维，和size分清\n",
    "print(\"数据个数\",y.size)#一共有多少个数据\n",
    "print(\"维数\",y.ndim)#几维"
   ]
  },
  {
   "cell_type": "markdown",
   "metadata": {},
   "source": [
    "### 使用np.arange(start,stop,step,dtype) 生成等差数组\n",
    "\n",
    "-   start 表示开始的数（包含） 默认从0开始\n",
    "    \n",
    "-   stop 表示结束的数（不包含）\n",
    "    \n",
    "-   step 指定步长 默认为1\n",
    "    \n",
    "-   dtype 指定数据类型"
   ]
  },
  {
   "cell_type": "code",
   "execution_count": 26,
   "metadata": {},
   "outputs": [
    {
     "data": {
      "text/plain": [
       "array([1, 3, 5, 7, 9])"
      ]
     },
     "execution_count": 26,
     "metadata": {},
     "output_type": "execute_result"
    }
   ],
   "source": [
    "a=np.arange(10)\n",
    "b=np.arange(1,10,2,int)\n",
    "b"
   ]
  },
  {
   "cell_type": "code",
   "execution_count": 36,
   "metadata": {},
   "outputs": [
    {
     "data": {
      "text/plain": [
       "array([[0, 1, 2, 3, 4],\n",
       "       [5, 6, 7, 8, 9]])"
      ]
     },
     "execution_count": 36,
     "metadata": {},
     "output_type": "execute_result"
    }
   ],
   "source": [
    "# reshape 可以改变数组的形状\n",
    "# 将一维数组 改成 2行5列的 2维数组\n",
    "np.arange(10).reshape(2,5)#需要被整分"
   ]
  },
  {
   "cell_type": "markdown",
   "metadata": {},
   "source": [
    "### 使用np.linspace(start,stop,num,endpoint) 创建等差数组-指定数量\n",
    "\n",
    "-   start 起始值\n",
    "    \n",
    "-   stop 结束值\n",
    "    \n",
    "-   num 要生成的等间隔样例数量，默认为50\n",
    "    \n",
    "-   endpoint 序列中是否包含stop值， 默认为true"
   ]
  },
  {
   "cell_type": "code",
   "execution_count": 38,
   "metadata": {},
   "outputs": [
    {
     "data": {
      "text/plain": [
       "array([ 0.        ,  0.20408163,  0.40816327,  0.6122449 ,  0.81632653,\n",
       "        1.02040816,  1.2244898 ,  1.42857143,  1.63265306,  1.83673469,\n",
       "        2.04081633,  2.24489796,  2.44897959,  2.65306122,  2.85714286,\n",
       "        3.06122449,  3.26530612,  3.46938776,  3.67346939,  3.87755102,\n",
       "        4.08163265,  4.28571429,  4.48979592,  4.69387755,  4.89795918,\n",
       "        5.10204082,  5.30612245,  5.51020408,  5.71428571,  5.91836735,\n",
       "        6.12244898,  6.32653061,  6.53061224,  6.73469388,  6.93877551,\n",
       "        7.14285714,  7.34693878,  7.55102041,  7.75510204,  7.95918367,\n",
       "        8.16326531,  8.36734694,  8.57142857,  8.7755102 ,  8.97959184,\n",
       "        9.18367347,  9.3877551 ,  9.59183673,  9.79591837, 10.        ])"
      ]
     },
     "execution_count": 38,
     "metadata": {},
     "output_type": "execute_result"
    }
   ],
   "source": [
    "np.linspace(0,10)"
   ]
  },
  {
   "cell_type": "code",
   "execution_count": 39,
   "metadata": {},
   "outputs": [
    {
     "data": {
      "text/plain": [
       "array([ 0. ,  2.5,  5. ,  7.5, 10. ])"
      ]
     },
     "execution_count": 39,
     "metadata": {},
     "output_type": "execute_result"
    }
   ],
   "source": [
    "np.linspace(0,10,5)"
   ]
  },
  {
   "cell_type": "markdown",
   "metadata": {},
   "source": [
    "**使用ones、ones_like、zeros、zeros_like、empty、empty_like、full、full_like、eye等函数创建**"
   ]
  },
  {
   "cell_type": "code",
   "execution_count": 55,
   "metadata": {},
   "outputs": [
    {
     "name": "stdout",
     "output_type": "stream",
     "text": [
      "a [1. 1. 1. 1. 1. 1. 1. 1. 1. 1.]\n",
      "b [[1. 1. 1. 1.]\n",
      " [1. 1. 1. 1.]]\n",
      "c [1. 1. 1. 1. 1. 1. 1. 1. 1. 1.]\n",
      "d [0. 0. 0. 0. 0. 0. 0. 0. 0. 0.]\n",
      "e [[0. 0. 0. 0.]\n",
      " [0. 0. 0. 0.]]\n",
      "f [0. 0. 0. 0. 0. 0. 0. 0. 0. 0.]\n",
      "g [666 666 666 666 666 666 666 666 666 666]\n",
      "h [[777 777 777 777]\n",
      " [777 777 777 777]]\n",
      "[[1. 0. 0. 0. 0.]\n",
      " [0. 1. 0. 0. 0.]\n",
      " [0. 0. 1. 0. 0.]\n",
      " [0. 0. 0. 1. 0.]\n",
      " [0. 0. 0. 0. 1.]]\n"
     ]
    }
   ],
   "source": [
    "a=np.ones(10)# 使用ones创建全是1的数组\n",
    "print(\"a\",a)\n",
    "\n",
    "b=np.ones((2,4))\n",
    "print(\"b\",b)\n",
    "\n",
    "c=np.ones_like(a)# 使用ones_like创建形状相同的数组\n",
    "print(\"c\",c)\n",
    "\n",
    "d=np.zeros(10)\n",
    "print(\"d\",d)\n",
    "\n",
    "e=np.zeros_like(b)\n",
    "print(\"e\",e)\n",
    "\n",
    "# 使用empty创建未初始化的数组\n",
    "# 注意：数据是未初始化的，里面的值可能是随机值不要用\n",
    "f=np.empty(10)\n",
    "print(\"f\",f)\n",
    "\n",
    "# 使用full创建指定值的数组\n",
    "g=np.full(10, 666)\n",
    "print(\"g\",g)\n",
    "\n",
    "h=np.full((2, 4), 777)\n",
    "print(\"h\",h)#同样可使用fill_like，请举一反三\n",
    "\n",
    "# 使用 eye 函数创建 对角线的地方为1，其余的地方为0.\n",
    "i=np.eye(5)\n",
    "print(\"i\",i)"
   ]
  },
  {
   "cell_type": "code",
   "execution_count": null,
   "metadata": {},
   "outputs": [],
   "source": []
  }
 ],
 "metadata": {
  "kernelspec": {
   "display_name": "base",
   "language": "python",
   "name": "python3"
  },
  "language_info": {
   "codemirror_mode": {
    "name": "ipython",
    "version": 3
   },
   "file_extension": ".py",
   "mimetype": "text/x-python",
   "name": "python",
   "nbconvert_exporter": "python",
   "pygments_lexer": "ipython3",
   "version": "3.10.9"
  }
 },
 "nbformat": 4,
 "nbformat_minor": 2
}
