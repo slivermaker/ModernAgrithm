{
 "cells": [
  {
   "cell_type": "markdown",
   "metadata": {},
   "source": [
    "## 1\\. Numpy是什么？[](https://gengzhige-essay.readthedocs.io/docs/01%20%E7%8E%AF%E5%A2%83%E9%85%8D%E7%BD%AE/1-5%20Numpy%E6%95%99%E7%A8%8B.html#id1 \"永久链接至标题\")\n",
    "\n",
    "**Numerical Python** 的缩写\n",
    "\n",
    "-   一个开源的Python科学计算库\n",
    "    \n",
    "-   使用numpy可以方便的使用数组、矩阵进行计算\n",
    "    \n",
    "-   包含线性代数、傅里叶变换、随机数生成等大量函数\n",
    "    \n",
    "\n",
    "## 2\\. 为什么使用Numpy？[](https://gengzhige-essay.readthedocs.io/docs/01%20%E7%8E%AF%E5%A2%83%E9%85%8D%E7%BD%AE/1-5%20Numpy%E6%95%99%E7%A8%8B.html#id2 \"永久链接至标题\")\n",
    "\n",
    "对于同样的数值计算任务，使用numpy比直接编写python代码实现 优点：\n",
    "\n",
    "-   代码更简洁： numpy直接以数组、矩阵为粒度计算并且支持大量的数学函数，而python需要用for循环从底层实现；\n",
    "    \n",
    "-   性能更高效： numpy的数组存储效率和输入输出计算性能，比python使用list好很多；numpy的大部分代码都是c语言实现的，这是numpy比python高效的原因\n",
    "    \n",
    "\n",
    "numpy是python各种数据科学类库的基础库\n",
    "\n",
    "-   比如SciPy、Scikit-Learn、tenorflow、paddlepaddle等\n",
    "    \n",
    "-   如果不会numpy，这些库的深入理解都会遇到障碍"
   ]
  },
  {
   "cell_type": "code",
   "execution_count": 1,
   "metadata": {},
   "outputs": [],
   "source": [
    "import numpy as np"
   ]
  },
  {
   "cell_type": "code",
   "execution_count": 3,
   "metadata": {},
   "outputs": [
    {
     "name": "stdout",
     "output_type": "stream",
     "text": [
      "[0, 2, 12, 36, 80]\n"
     ]
    }
   ],
   "source": [
    "#原生语法实现\n",
    "def _sum(n):\n",
    "    a=[i**2 for i in range(n)]\n",
    "    b=[i**3 for i in range(n)]\n",
    "    c=[a[i]+b[i] for i in range(n)]\n",
    "    return c\n",
    "print(_sum(5))"
   ]
  },
  {
   "cell_type": "code",
   "execution_count": 7,
   "metadata": {},
   "outputs": [
    {
     "name": "stdout",
     "output_type": "stream",
     "text": [
      "[ 0  2 12 36 80]\n"
     ]
    }
   ],
   "source": [
    "#numpy实现\n",
    "def __sum(n):\n",
    "    a=np.arange(n)**2\n",
    "    b=np.arange(n)**3\n",
    "    return a+b\n",
    "print(__sum(5))"
   ]
  },
  {
   "cell_type": "markdown",
   "metadata": {},
   "source": [
    "### ndarray对象：[](https://gengzhige-essay.readthedocs.io/docs/01%20%E7%8E%AF%E5%A2%83%E9%85%8D%E7%BD%AE/1-5%20Numpy%E6%95%99%E7%A8%8B.html#ndarray \"永久链接至标题\")\n",
    "\n",
    "-   numpy的核心数据结构，叫做array就是数组，array对象可以是一维数组，也可以是多维数组\n",
    "    \n",
    "-   python的list也可以实现相同的功能，但是array的优势在于性能好，包含数组元数据信息、大量的便捷函数\n",
    "    \n",
    "-   成为 Scipy、Pandas、scilit-learn、tensorflow、paddlepaddle等框架的通用底层语言\n",
    "    \n",
    "-   numpy的array和python的list的一个区别是它的元素必须都是同一种数据类型，这也是numpy高性能的一个原因\n",
    "    \n",
    "\n",
    "### ndarray属性[](https://gengzhige-essay.readthedocs.io/docs/01%20%E7%8E%AF%E5%A2%83%E9%85%8D%E7%BD%AE/1-5%20Numpy%E6%95%99%E7%A8%8B.html#id4 \"永久链接至标题\")\n",
    "\n",
    "-   shape 返回一个元组 表示array的形状\n",
    "    \n",
    "-   ndim 返回一个数字 表示array的维度的数目\n",
    "    \n",
    "-   size 返回一个数字 表示array中所有数据元素的数目\n",
    "    \n",
    "-   dtype array中元素的数据类型\n",
    "    \n",
    "-   itemsize 表示数组中每个元素的字节大小\n",
    "    \n",
    "\n",
    "### array本身支持的大量操作和函数[](https://gengzhige-essay.readthedocs.io/docs/01%20%E7%8E%AF%E5%A2%83%E9%85%8D%E7%BD%AE/1-5%20Numpy%E6%95%99%E7%A8%8B.html#array \"永久链接至标题\")\n",
    "\n",
    "-   直接逐元素的加减乘除等算数操作\n",
    "    \n",
    "-   更好用的面向多维的数组索引\n",
    "    \n",
    "-   求sum/mean等聚合函数\n",
    "    \n",
    "-   线性代数函数、比如求解逆矩阵、求解方程组\n",
    "    \n",
    "\n",
    "## 6\\. 创建array的方法[](https://gengzhige-essay.readthedocs.io/docs/01%20%E7%8E%AF%E5%A2%83%E9%85%8D%E7%BD%AE/1-5%20Numpy%E6%95%99%E7%A8%8B.html#id5 \"永久链接至标题\")\n",
    "\n",
    "-   从Python的列表list和嵌套列表创建array\n",
    "    \n",
    "-   使用预定函数arange、linspace等创建等差数组\n",
    "    \n",
    "-   使用ones、ones\\_like、zeros、zeros\\_like、empty、empty\\_like、full、full\\_like、eye等函数创建\n",
    "    \n",
    "-   生成随机数的np.random模块创建"
   ]
  },
  {
   "cell_type": "code",
   "execution_count": 2,
   "metadata": {},
   "outputs": [
    {
     "data": {
      "text/plain": [
       "array([1, 2, 3, 4, 5])"
      ]
     },
     "execution_count": 2,
     "metadata": {},
     "output_type": "execute_result"
    }
   ],
   "source": [
    "import numpy as np\n",
    "\n",
    "x= np.array([1,2,3,4,5])\n",
    "x\n"
   ]
  },
  {
   "cell_type": "code",
   "execution_count": 11,
   "metadata": {},
   "outputs": [
    {
     "data": {
      "text/plain": [
       "array([[1, 2, 3, 4],\n",
       "       [5, 6, 6, 7]])"
      ]
     },
     "execution_count": 11,
     "metadata": {},
     "output_type": "execute_result"
    }
   ],
   "source": [
    "y=np.array([\n",
    "    [1,2,3,4],\n",
    "    [5,6,6,7]\n",
    "])\n",
    "y"
   ]
  },
  {
   "cell_type": "code",
   "execution_count": 23,
   "metadata": {},
   "outputs": [
    {
     "name": "stdout",
     "output_type": "stream",
     "text": [
      "2   4\n",
      "5\n",
      "数据个数 8\n",
      "维数 2\n"
     ]
    }
   ],
   "source": [
    "m,n=y.shape\n",
    "print(\"{}   {}\".format( m,n))\n",
    "mm=x.shape[0]\n",
    "print(mm)#返回是数组格式返回选择返回第几维，和size分清\n",
    "print(\"数据个数\",y.size)#一共有多少个数据\n",
    "print(\"维数\",y.ndim)#几维"
   ]
  },
  {
   "cell_type": "markdown",
   "metadata": {},
   "source": [
    "### 使用np.arange(start,stop,step,dtype) 生成等差数组\n",
    "\n",
    "-   start 表示开始的数（包含） 默认从0开始\n",
    "    \n",
    "-   stop 表示结束的数（不包含）\n",
    "    \n",
    "-   step 指定步长 默认为1\n",
    "    \n",
    "-   dtype 指定数据类型"
   ]
  },
  {
   "cell_type": "code",
   "execution_count": 26,
   "metadata": {},
   "outputs": [
    {
     "data": {
      "text/plain": [
       "array([1, 3, 5, 7, 9])"
      ]
     },
     "execution_count": 26,
     "metadata": {},
     "output_type": "execute_result"
    }
   ],
   "source": [
    "a=np.arange(10)\n",
    "b=np.arange(1,10,2,int)\n",
    "b"
   ]
  },
  {
   "cell_type": "code",
   "execution_count": 36,
   "metadata": {},
   "outputs": [
    {
     "data": {
      "text/plain": [
       "array([[0, 1, 2, 3, 4],\n",
       "       [5, 6, 7, 8, 9]])"
      ]
     },
     "execution_count": 36,
     "metadata": {},
     "output_type": "execute_result"
    }
   ],
   "source": [
    "# reshape 可以改变数组的形状\n",
    "# 将一维数组 改成 2行5列的 2维数组\n",
    "np.arange(10).reshape(2,5)#需要被整分"
   ]
  },
  {
   "cell_type": "markdown",
   "metadata": {},
   "source": [
    "### 使用np.linspace(start,stop,num,endpoint) 创建等差数组-指定数量\n",
    "\n",
    "-   start 起始值\n",
    "    \n",
    "-   stop 结束值\n",
    "    \n",
    "-   num 要生成的等间隔样例数量，默认为50\n",
    "    \n",
    "-   endpoint 序列中是否包含stop值， 默认为true"
   ]
  },
  {
   "cell_type": "code",
   "execution_count": 38,
   "metadata": {},
   "outputs": [
    {
     "data": {
      "text/plain": [
       "array([ 0.        ,  0.20408163,  0.40816327,  0.6122449 ,  0.81632653,\n",
       "        1.02040816,  1.2244898 ,  1.42857143,  1.63265306,  1.83673469,\n",
       "        2.04081633,  2.24489796,  2.44897959,  2.65306122,  2.85714286,\n",
       "        3.06122449,  3.26530612,  3.46938776,  3.67346939,  3.87755102,\n",
       "        4.08163265,  4.28571429,  4.48979592,  4.69387755,  4.89795918,\n",
       "        5.10204082,  5.30612245,  5.51020408,  5.71428571,  5.91836735,\n",
       "        6.12244898,  6.32653061,  6.53061224,  6.73469388,  6.93877551,\n",
       "        7.14285714,  7.34693878,  7.55102041,  7.75510204,  7.95918367,\n",
       "        8.16326531,  8.36734694,  8.57142857,  8.7755102 ,  8.97959184,\n",
       "        9.18367347,  9.3877551 ,  9.59183673,  9.79591837, 10.        ])"
      ]
     },
     "execution_count": 38,
     "metadata": {},
     "output_type": "execute_result"
    }
   ],
   "source": [
    "np.linspace(0,10)"
   ]
  },
  {
   "cell_type": "code",
   "execution_count": 39,
   "metadata": {},
   "outputs": [
    {
     "data": {
      "text/plain": [
       "array([ 0. ,  2.5,  5. ,  7.5, 10. ])"
      ]
     },
     "execution_count": 39,
     "metadata": {},
     "output_type": "execute_result"
    }
   ],
   "source": [
    "np.linspace(0,10,5)"
   ]
  },
  {
   "cell_type": "markdown",
   "metadata": {},
   "source": [
    "**使用ones、ones_like、zeros、zeros_like、empty、empty_like、full、full_like、eye等函数创建**"
   ]
  },
  {
   "cell_type": "code",
   "execution_count": 3,
   "metadata": {},
   "outputs": [
    {
     "name": "stdout",
     "output_type": "stream",
     "text": [
      "a [1. 1. 1. 1. 1. 1. 1. 1. 1. 1.]\n",
      "b [[1. 1. 1. 1.]\n",
      " [1. 1. 1. 1.]]\n",
      "c [1. 1. 1. 1. 1. 1. 1. 1. 1. 1.]\n",
      "d [0. 0. 0. 0. 0. 0. 0. 0. 0. 0.]\n",
      "e [[0. 0. 0. 0.]\n",
      " [0. 0. 0. 0.]]\n",
      "f [0. 0. 0. 0. 0. 0. 0. 0. 0. 0.]\n",
      "g [666 666 666 666 666 666 666 666 666 666]\n",
      "h [[777 777 777 777]\n",
      " [777 777 777 777]]\n",
      "i [[1. 0. 0. 0. 0.]\n",
      " [0. 1. 0. 0. 0.]\n",
      " [0. 0. 1. 0. 0.]\n",
      " [0. 0. 0. 1. 0.]\n",
      " [0. 0. 0. 0. 1.]]\n"
     ]
    }
   ],
   "source": [
    "a=np.ones(10)# 使用ones创建全是1的数组\n",
    "print(\"a\",a)\n",
    "\n",
    "b=np.ones((2,4))\n",
    "print(\"b\",b)\n",
    "\n",
    "c=np.ones_like(a)# 使用ones_like创建形状相同的数组\n",
    "print(\"c\",c)\n",
    "\n",
    "d=np.zeros(10)\n",
    "print(\"d\",d)\n",
    "\n",
    "e=np.zeros_like(b)\n",
    "print(\"e\",e)\n",
    "\n",
    "# 使用empty创建未初始化的数组\n",
    "# 注意：数据是未初始化的，里面的值可能是随机值不要用\n",
    "f=np.empty(10)\n",
    "print(\"f\",f)\n",
    "\n",
    "# 使用full创建指定值的数组\n",
    "g=np.full(10, 666)\n",
    "print(\"g\",g)\n",
    "\n",
    "h=np.full((2, 4), 777)\n",
    "print(\"h\",h)#同样可使用fill_like，请举一反三\n",
    "\n",
    "# 使用 eye 函数创建 对角线的地方为1，其余的地方为0.\n",
    "i=np.eye(5)\n",
    "print(\"i\",i)"
   ]
  },
  {
   "cell_type": "code",
   "execution_count": 4,
   "metadata": {},
   "outputs": [],
   "source": [
    "np.random.seed(666)#设置种子"
   ]
  },
  {
   "cell_type": "code",
   "execution_count": 8,
   "metadata": {},
   "outputs": [
    {
     "name": "stdout",
     "output_type": "stream",
     "text": [
      "Help on built-in function rand:\n",
      "\n",
      "rand(...) method of numpy.random.mtrand.RandomState instance\n",
      "    rand(d0, d1, ..., dn)\n",
      "    \n",
      "    Random values in a given shape.\n",
      "    \n",
      "    .. note::\n",
      "        This is a convenience function for users porting code from Matlab,\n",
      "        and wraps `random_sample`. That function takes a\n",
      "        tuple to specify the size of the output, which is consistent with\n",
      "        other NumPy functions like `numpy.zeros` and `numpy.ones`.\n",
      "    \n",
      "    Create an array of the given shape and populate it with\n",
      "    random samples from a uniform distribution\n",
      "    over ``[0, 1)``.\n",
      "    \n",
      "    Parameters\n",
      "    ----------\n",
      "    d0, d1, ..., dn : int, optional\n",
      "        The dimensions of the returned array, must be non-negative.\n",
      "        If no argument is given a single Python float is returned.\n",
      "    \n",
      "    Returns\n",
      "    -------\n",
      "    out : ndarray, shape ``(d0, d1, ..., dn)``\n",
      "        Random values.\n",
      "    \n",
      "    See Also\n",
      "    --------\n",
      "    random\n",
      "    \n",
      "    Examples\n",
      "    --------\n",
      "    >>> np.random.rand(3,2)\n",
      "    array([[ 0.14022471,  0.96360618],  #random\n",
      "           [ 0.37601032,  0.25528411],  #random\n",
      "           [ 0.49313049,  0.94909878]]) #random\n",
      "\n"
     ]
    }
   ],
   "source": [
    "np.random.rand(2,5)# 随机生成 2行5列的2维数组  数据在[0,1)之间\n",
    "help(np.random.rand)"
   ]
  },
  {
   "cell_type": "code",
   "execution_count": 12,
   "metadata": {},
   "outputs": [
    {
     "data": {
      "text/plain": [
       "4"
      ]
     },
     "execution_count": 12,
     "metadata": {},
     "output_type": "execute_result"
    }
   ],
   "source": [
    "# 生成随机整数  区间范围：[2,5) 左闭右开  包含2不包含5\n",
    "np.random.randint(2,5)"
   ]
  },
  {
   "cell_type": "code",
   "execution_count": 14,
   "metadata": {},
   "outputs": [
    {
     "data": {
      "text/plain": [
       "array([4, 3, 3, 3, 4])"
      ]
     },
     "execution_count": 14,
     "metadata": {},
     "output_type": "execute_result"
    }
   ],
   "source": [
    "# 指定shape\n",
    "np.random.randint(2,5,5)"
   ]
  },
  {
   "cell_type": "code",
   "execution_count": 17,
   "metadata": {},
   "outputs": [
    {
     "data": {
      "text/plain": [
       "array([[2.72814381, 3.71131018, 3.73320211, 4.67824544, 2.36415632],\n",
       "       [3.98251619, 2.49377813, 2.28307512, 3.76284321, 4.58043336]])"
      ]
     },
     "execution_count": 17,
     "metadata": {},
     "output_type": "execute_result"
    }
   ],
   "source": [
    "# 前面的 2， 5 表示 取值的区间范围 [2,5)\n",
    "# 后面的(2,5) 是指定的shape\n",
    "np.random.uniform(2,5,(2,5))#uniform生成的是均匀数字"
   ]
  },
  {
   "cell_type": "code",
   "execution_count": 20,
   "metadata": {},
   "outputs": [
    {
     "data": {
      "text/plain": [
       "array([[-1.44545669, -0.26378654,  1.71971234,  0.4855902 ],\n",
       "       [ 0.52281208,  1.51131644, -0.82449495,  0.09383679],\n",
       "       [ 1.75190746, -1.21352598, -0.36490519, -0.61302436]])"
      ]
     },
     "execution_count": 20,
     "metadata": {},
     "output_type": "execute_result"
    }
   ],
   "source": [
    "np.random.randn(3,4)#标准正态分布的一些数字，均值为0方差为1"
   ]
  },
  {
   "cell_type": "code",
   "execution_count": 25,
   "metadata": {},
   "outputs": [
    {
     "name": "stdout",
     "output_type": "stream",
     "text": [
      "Help on built-in function normal:\n",
      "\n",
      "normal(...) method of numpy.random.mtrand.RandomState instance\n",
      "    normal(loc=0.0, scale=1.0, size=None)\n",
      "    \n",
      "    Draw random samples from a normal (Gaussian) distribution.\n",
      "    \n",
      "    The probability density function of the normal distribution, first\n",
      "    derived by De Moivre and 200 years later by both Gauss and Laplace\n",
      "    independently [2]_, is often called the bell curve because of\n",
      "    its characteristic shape (see the example below).\n",
      "    \n",
      "    The normal distributions occurs often in nature.  For example, it\n",
      "    describes the commonly occurring distribution of samples influenced\n",
      "    by a large number of tiny, random disturbances, each with its own\n",
      "    unique distribution [2]_.\n",
      "    \n",
      "    .. note::\n",
      "        New code should use the ``normal`` method of a ``default_rng()``\n",
      "        instance instead; please see the :ref:`random-quick-start`.\n",
      "    \n",
      "    Parameters\n",
      "    ----------\n",
      "    loc : float or array_like of floats\n",
      "        Mean (\"centre\") of the distribution.\n",
      "    scale : float or array_like of floats\n",
      "        Standard deviation (spread or \"width\") of the distribution. Must be\n",
      "        non-negative.\n",
      "    size : int or tuple of ints, optional\n",
      "        Output shape.  If the given shape is, e.g., ``(m, n, k)``, then\n",
      "        ``m * n * k`` samples are drawn.  If size is ``None`` (default),\n",
      "        a single value is returned if ``loc`` and ``scale`` are both scalars.\n",
      "        Otherwise, ``np.broadcast(loc, scale).size`` samples are drawn.\n",
      "    \n",
      "    Returns\n",
      "    -------\n",
      "    out : ndarray or scalar\n",
      "        Drawn samples from the parameterized normal distribution.\n",
      "    \n",
      "    See Also\n",
      "    --------\n",
      "    scipy.stats.norm : probability density function, distribution or\n",
      "        cumulative density function, etc.\n",
      "    random.Generator.normal: which should be used for new code.\n",
      "    \n",
      "    Notes\n",
      "    -----\n",
      "    The probability density for the Gaussian distribution is\n",
      "    \n",
      "    .. math:: p(x) = \\frac{1}{\\sqrt{ 2 \\pi \\sigma^2 }}\n",
      "                     e^{ - \\frac{ (x - \\mu)^2 } {2 \\sigma^2} },\n",
      "    \n",
      "    where :math:`\\mu` is the mean and :math:`\\sigma` the standard\n",
      "    deviation. The square of the standard deviation, :math:`\\sigma^2`,\n",
      "    is called the variance.\n",
      "    \n",
      "    The function has its peak at the mean, and its \"spread\" increases with\n",
      "    the standard deviation (the function reaches 0.607 times its maximum at\n",
      "    :math:`x + \\sigma` and :math:`x - \\sigma` [2]_).  This implies that\n",
      "    normal is more likely to return samples lying close to the mean, rather\n",
      "    than those far away.\n",
      "    \n",
      "    References\n",
      "    ----------\n",
      "    .. [1] Wikipedia, \"Normal distribution\",\n",
      "           https://en.wikipedia.org/wiki/Normal_distribution\n",
      "    .. [2] P. R. Peebles Jr., \"Central Limit Theorem\" in \"Probability,\n",
      "           Random Variables and Random Signal Principles\", 4th ed., 2001,\n",
      "           pp. 51, 51, 125.\n",
      "    \n",
      "    Examples\n",
      "    --------\n",
      "    Draw samples from the distribution:\n",
      "    \n",
      "    >>> mu, sigma = 0, 0.1 # mean and standard deviation\n",
      "    >>> s = np.random.normal(mu, sigma, 1000)\n",
      "    \n",
      "    Verify the mean and the variance:\n",
      "    \n",
      "    >>> abs(mu - np.mean(s))\n",
      "    0.0  # may vary\n",
      "    \n",
      "    >>> abs(sigma - np.std(s, ddof=1))\n",
      "    0.1  # may vary\n",
      "    \n",
      "    Display the histogram of the samples, along with\n",
      "    the probability density function:\n",
      "    \n",
      "    >>> import matplotlib.pyplot as plt\n",
      "    >>> count, bins, ignored = plt.hist(s, 30, density=True)\n",
      "    >>> plt.plot(bins, 1/(sigma * np.sqrt(2 * np.pi)) *\n",
      "    ...                np.exp( - (bins - mu)**2 / (2 * sigma**2) ),\n",
      "    ...          linewidth=2, color='r')\n",
      "    >>> plt.show()\n",
      "    \n",
      "    Two-by-four array of samples from N(3, 6.25):\n",
      "    \n",
      "    >>> np.random.normal(3, 2.5, size=(2, 4))\n",
      "    array([[-4.49401501,  4.00950034, -1.81814867,  7.29718677],   # random\n",
      "           [ 0.39924804,  4.68456316,  4.99394529,  4.84057254]])  # random\n",
      "\n"
     ]
    }
   ],
   "source": [
    "# normal()  可以指定均值和标准差差\n",
    "np.random.normal(1,10,5)\n",
    "help(np.random.normal)"
   ]
  },
  {
   "cell_type": "code",
   "execution_count": 26,
   "metadata": {},
   "outputs": [
    {
     "data": {
      "text/plain": [
       "array([[-6.17608559, 16.59436829,  3.62046574, 11.50429911],\n",
       "       [ 5.42329233, 21.48030724,  4.43405768, 18.13656068],\n",
       "       [10.03269545, -0.51419175,  9.27638555, -2.22671385]])"
      ]
     },
     "execution_count": 26,
     "metadata": {},
     "output_type": "execute_result"
    }
   ],
   "source": [
    "np.random.normal(5,10,(3,4))"
   ]
  },
  {
   "cell_type": "code",
   "execution_count": 35,
   "metadata": {},
   "outputs": [
    {
     "data": {
      "text/plain": [
       "array([2, 3, 4])"
      ]
     },
     "execution_count": 35,
     "metadata": {},
     "output_type": "execute_result"
    }
   ],
   "source": [
    "# choice 从给定的数组里 生成随机结果\n",
    "np.random.choice(5, 3)\n",
    "# 等同于 np.random.choice(0, 5, 3)  在[0,5)的区间范围内 生成3个数据"
   ]
  },
  {
   "cell_type": "code",
   "execution_count": 38,
   "metadata": {},
   "outputs": [
    {
     "name": "stdout",
     "output_type": "stream",
     "text": [
      "[[2 1 4]\n",
      " [2 4 3]] \n",
      "\n",
      "[2 5 3]\n"
     ]
    }
   ],
   "source": [
    "print(np.random.choice(5, (2, 3)),'\\n')\n",
    "print(np.random.choice([1,3,5,2,3], 3))"
   ]
  },
  {
   "cell_type": "code",
   "execution_count": 39,
   "metadata": {},
   "outputs": [
    {
     "data": {
      "text/plain": [
       "array([6, 5, 7, 1, 9, 8, 3, 2, 4, 0])"
      ]
     },
     "execution_count": 39,
     "metadata": {},
     "output_type": "execute_result"
    }
   ],
   "source": [
    "# shuffle 把一个数组进行随机排列\n",
    "# 如果数组是多维的  则只会在第一维度打散数据\n",
    "\n",
    "a = np.arange(10)\n",
    "np.random.shuffle(a) \n",
    "a"
   ]
  },
  {
   "cell_type": "code",
   "execution_count": null,
   "metadata": {},
   "outputs": [],
   "source": [
    "# permutation 把一个数组进行随机排列  或者数字的全排列\n",
    "print(np.random.permutation(10))\n",
    "# permutation 与 shuffle 函数功能相同  区别在于：\n",
    "# 注意 permutation不会更改原来的arr 会返回一个新的copy"
   ]
  },
  {
   "cell_type": "markdown",
   "metadata": {},
   "source": [
    "**数组索引**\n",
    "-   基础索引\n",
    "    \n",
    "-   神奇索引\n",
    "    \n",
    "-   布尔索引"
   ]
  },
  {
   "cell_type": "code",
   "execution_count": 29,
   "metadata": {},
   "outputs": [
    {
     "data": {
      "text/plain": [
       "array([0, 1, 2, 3, 4, 5, 6, 7, 8, 9])"
      ]
     },
     "execution_count": 29,
     "metadata": {},
     "output_type": "execute_result"
    }
   ],
   "source": [
    "x=np.arange(10)\n",
    "x"
   ]
  },
  {
   "cell_type": "code",
   "execution_count": 32,
   "metadata": {},
   "outputs": [
    {
     "name": "stdout",
     "output_type": "stream",
     "text": [
      "0\n",
      "[2 3 4 5 6 7 8]\n",
      "[2 3 4 5 6 7 8 9]\n"
     ]
    }
   ],
   "source": [
    "print(x[0])\n",
    "print(x[2:-1])\n",
    "print(x[2:])"
   ]
  },
  {
   "cell_type": "code",
   "execution_count": 34,
   "metadata": {},
   "outputs": [
    {
     "data": {
      "text/plain": [
       "array([[ 0,  1,  2,  3,  4],\n",
       "       [ 5,  6,  7,  8,  9],\n",
       "       [10, 11, 12, 13, 14],\n",
       "       [15, 16, 17, 18, 19]])"
      ]
     },
     "execution_count": 34,
     "metadata": {},
     "output_type": "execute_result"
    }
   ],
   "source": [
    "y=np.arange(20).reshape(4,5)\n",
    "y"
   ]
  },
  {
   "cell_type": "code",
   "execution_count": 40,
   "metadata": {},
   "outputs": [
    {
     "name": "stdout",
     "output_type": "stream",
     "text": [
      "[10 11 12 13 14]\n",
      "\n",
      " [ 2  7 12 17]\n"
     ]
    }
   ],
   "source": [
    "print(y[2])#第三行\n",
    "print('\\n',y[:,2])#第三列"
   ]
  },
  {
   "cell_type": "markdown",
   "metadata": {},
   "source": [
    "**切片修改会改变原来的数组**\n",
    "\n"
   ]
  },
  {
   "cell_type": "code",
   "execution_count": 42,
   "metadata": {},
   "outputs": [
    {
     "data": {
      "text/plain": [
       "array([114514, 114514,      2,      3,      4,      5,      6,      7,\n",
       "            8,      9])"
      ]
     },
     "execution_count": 42,
     "metadata": {},
     "output_type": "execute_result"
    }
   ],
   "source": [
    "x=np.arange(10)\n",
    "x[:2]=114514\n",
    "x"
   ]
  },
  {
   "cell_type": "markdown",
   "metadata": {},
   "source": [
    "**神奇索引**\n",
    "就是： 用整数数组进行的索引\n",
    "\n"
   ]
  },
  {
   "cell_type": "code",
   "execution_count": 51,
   "metadata": {},
   "outputs": [
    {
     "name": "stdout",
     "output_type": "stream",
     "text": [
      "[2 3 4]\n",
      "[[0 2]\n",
      " [1 3]]\n",
      "[[0 2]\n",
      " [1 3]]\n"
     ]
    }
   ],
   "source": [
    "x = np.arange(10)\n",
    "print(x[[2,3,4]])\n",
    "indexs =np.array([[0,2],[1,3]])\n",
    "print(x[indexs])\n",
    "print(indexs)\n",
    "\n"
   ]
  },
  {
   "cell_type": "code",
   "execution_count": 53,
   "metadata": {},
   "outputs": [
    {
     "data": {
      "text/plain": [
       "array([3, 6, 8], dtype=int64)"
      ]
     },
     "execution_count": 53,
     "metadata": {},
     "output_type": "execute_result"
    }
   ],
   "source": [
    "arr=np.random.randint(1,100,10)\n",
    "arr.argsort()[-3:]"
   ]
  },
  {
   "cell_type": "code",
   "execution_count": 54,
   "metadata": {},
   "outputs": [
    {
     "data": {
      "text/plain": [
       "array([71, 83, 97])"
      ]
     },
     "execution_count": 54,
     "metadata": {},
     "output_type": "execute_result"
    }
   ],
   "source": [
    "arr[arr.argsort()[-3:]]"
   ]
  }
 ],
 "metadata": {
  "kernelspec": {
   "display_name": "base",
   "language": "python",
   "name": "python3"
  },
  "language_info": {
   "codemirror_mode": {
    "name": "ipython",
    "version": 3
   },
   "file_extension": ".py",
   "mimetype": "text/x-python",
   "name": "python",
   "nbconvert_exporter": "python",
   "pygments_lexer": "ipython3",
   "version": "3.10.9"
  }
 },
 "nbformat": 4,
 "nbformat_minor": 2
}
