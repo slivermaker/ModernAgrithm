{
 "cells": [
  {
   "cell_type": "markdown",
   "metadata": {},
   "source": [
    "### 尹老师作为lcpandas最佳题解最多的人竟然数据库暴雷，令人感叹"
   ]
  },
  {
   "cell_type": "code",
   "execution_count": 2,
   "metadata": {},
   "outputs": [],
   "source": [
    "import numpy as np\n",
    "import pandas as pd\n"
   ]
  },
  {
   "cell_type": "code",
   "execution_count": 3,
   "metadata": {},
   "outputs": [
    {
     "data": {
      "text/plain": [
       "0    1.0\n",
       "1    3.0\n",
       "2    4.0\n",
       "3    5.0\n",
       "4    NaN\n",
       "5    6.0\n",
       "dtype: float64"
      ]
     },
     "execution_count": 3,
     "metadata": {},
     "output_type": "execute_result"
    }
   ],
   "source": [
    "# 列表生成 Series\n",
    "s=pd.Series([1,3,4,5,np.nan,6])\n",
    "s"
   ]
  },
  {
   "cell_type": "code",
   "execution_count": 14,
   "metadata": {},
   "outputs": [
    {
     "data": {
      "text/html": [
       "<div>\n",
       "<style scoped>\n",
       "    .dataframe tbody tr th:only-of-type {\n",
       "        vertical-align: middle;\n",
       "    }\n",
       "\n",
       "    .dataframe tbody tr th {\n",
       "        vertical-align: top;\n",
       "    }\n",
       "\n",
       "    .dataframe thead th {\n",
       "        text-align: right;\n",
       "    }\n",
       "</style>\n",
       "<table border=\"1\" class=\"dataframe\">\n",
       "  <thead>\n",
       "    <tr style=\"text-align: right;\">\n",
       "      <th></th>\n",
       "      <th>A</th>\n",
       "      <th>B</th>\n",
       "      <th>C</th>\n",
       "      <th>D</th>\n",
       "      <th>E</th>\n",
       "      <th>F</th>\n",
       "    </tr>\n",
       "  </thead>\n",
       "  <tbody>\n",
       "    <tr>\n",
       "      <th>0</th>\n",
       "      <td>1</td>\n",
       "      <td>2021-06-09</td>\n",
       "      <td>1.0</td>\n",
       "      <td>3.0</td>\n",
       "      <td>test</td>\n",
       "      <td>SilveryZz</td>\n",
       "    </tr>\n",
       "    <tr>\n",
       "      <th>1</th>\n",
       "      <td>1</td>\n",
       "      <td>2021-06-09</td>\n",
       "      <td>1.0</td>\n",
       "      <td>3.0</td>\n",
       "      <td>train</td>\n",
       "      <td>SilveryZz</td>\n",
       "    </tr>\n",
       "    <tr>\n",
       "      <th>2</th>\n",
       "      <td>1</td>\n",
       "      <td>2021-06-09</td>\n",
       "      <td>1.0</td>\n",
       "      <td>3.0</td>\n",
       "      <td>test</td>\n",
       "      <td>SilveryZz</td>\n",
       "    </tr>\n",
       "    <tr>\n",
       "      <th>3</th>\n",
       "      <td>1</td>\n",
       "      <td>2021-06-09</td>\n",
       "      <td>1.0</td>\n",
       "      <td>3.0</td>\n",
       "      <td>train</td>\n",
       "      <td>SilveryZz</td>\n",
       "    </tr>\n",
       "  </tbody>\n",
       "</table>\n",
       "</div>"
      ],
      "text/plain": [
       "   A          B    C    D      E          F\n",
       "0  1 2021-06-09  1.0  3.0   test  SilveryZz\n",
       "1  1 2021-06-09  1.0  3.0  train  SilveryZz\n",
       "2  1 2021-06-09  1.0  3.0   test  SilveryZz\n",
       "3  1 2021-06-09  1.0  3.0  train  SilveryZz"
      ]
     },
     "execution_count": 14,
     "metadata": {},
     "output_type": "execute_result"
    }
   ],
   "source": [
    "# 用series 字典 对象生成DataFrame\n",
    "\n",
    "# 创建一个DataFrame\n",
    "df2 = pd.DataFrame({\n",
    "    'A': 1,  # 列'A'的值全部为1\n",
    "    'B': pd.Timestamp('20210609'),  # 列'B'的值为一个时间戳\n",
    "    'C': pd.Series(1, index=list(range(4)), dtype='float32'),  # 列'C'的值为一个Pandas Series，索引为[0, 1, 2, 3]，值全部为1，数据类型为float32\n",
    "    'D': np.array([3]*4, dtype='float32'),  # 列'D'的值为一个NumPy数组，元素全部为3，数据类型为float32\n",
    "    'E': pd.Categorical(['test', 'train', 'test', 'train']),  # 列'E'的值为一个分类变量，包含四个类别'test'、'train'，数据类型为Categorical\n",
    "    'F': 'SilveryZz'  # 列'F'的值全部为'foo'\n",
    "})\n",
    "df2"
   ]
  },
  {
   "cell_type": "code",
   "execution_count": 22,
   "metadata": {},
   "outputs": [
    {
     "data": {
      "text/plain": [
       "DatetimeIndex(['2012-12-13', '2012-12-14', '2012-12-15', '2012-12-16',\n",
       "               '2012-12-17', '2012-12-18'],\n",
       "              dtype='datetime64[ns]', freq='D')"
      ]
     },
     "execution_count": 22,
     "metadata": {},
     "output_type": "execute_result"
    }
   ],
   "source": [
    "#用日期\n",
    "d =pd.date_range('20121213',periods=6)\n",
    "d"
   ]
  },
  {
   "cell_type": "code",
   "execution_count": 25,
   "metadata": {},
   "outputs": [
    {
     "data": {
      "text/html": [
       "<div>\n",
       "<style scoped>\n",
       "    .dataframe tbody tr th:only-of-type {\n",
       "        vertical-align: middle;\n",
       "    }\n",
       "\n",
       "    .dataframe tbody tr th {\n",
       "        vertical-align: top;\n",
       "    }\n",
       "\n",
       "    .dataframe thead th {\n",
       "        text-align: right;\n",
       "    }\n",
       "</style>\n",
       "<table border=\"1\" class=\"dataframe\">\n",
       "  <thead>\n",
       "    <tr style=\"text-align: right;\">\n",
       "      <th></th>\n",
       "      <th>A</th>\n",
       "      <th>B</th>\n",
       "      <th>C</th>\n",
       "      <th>D</th>\n",
       "    </tr>\n",
       "  </thead>\n",
       "  <tbody>\n",
       "    <tr>\n",
       "      <th>2012-12-13</th>\n",
       "      <td>0.775585</td>\n",
       "      <td>0.863058</td>\n",
       "      <td>0.487846</td>\n",
       "      <td>0.720818</td>\n",
       "    </tr>\n",
       "    <tr>\n",
       "      <th>2012-12-14</th>\n",
       "      <td>0.393914</td>\n",
       "      <td>0.343744</td>\n",
       "      <td>0.667311</td>\n",
       "      <td>0.544001</td>\n",
       "    </tr>\n",
       "    <tr>\n",
       "      <th>2012-12-15</th>\n",
       "      <td>0.773277</td>\n",
       "      <td>0.281727</td>\n",
       "      <td>0.831660</td>\n",
       "      <td>0.029889</td>\n",
       "    </tr>\n",
       "    <tr>\n",
       "      <th>2012-12-16</th>\n",
       "      <td>0.222401</td>\n",
       "      <td>0.336302</td>\n",
       "      <td>0.616577</td>\n",
       "      <td>0.861299</td>\n",
       "    </tr>\n",
       "    <tr>\n",
       "      <th>2012-12-17</th>\n",
       "      <td>0.764986</td>\n",
       "      <td>0.146791</td>\n",
       "      <td>0.835565</td>\n",
       "      <td>0.627138</td>\n",
       "    </tr>\n",
       "    <tr>\n",
       "      <th>2012-12-18</th>\n",
       "      <td>0.914258</td>\n",
       "      <td>0.666609</td>\n",
       "      <td>0.981403</td>\n",
       "      <td>0.438783</td>\n",
       "    </tr>\n",
       "  </tbody>\n",
       "</table>\n",
       "</div>"
      ],
      "text/plain": [
       "                   A         B         C         D\n",
       "2012-12-13  0.775585  0.863058  0.487846  0.720818\n",
       "2012-12-14  0.393914  0.343744  0.667311  0.544001\n",
       "2012-12-15  0.773277  0.281727  0.831660  0.029889\n",
       "2012-12-16  0.222401  0.336302  0.616577  0.861299\n",
       "2012-12-17  0.764986  0.146791  0.835565  0.627138\n",
       "2012-12-18  0.914258  0.666609  0.981403  0.438783"
      ]
     },
     "execution_count": 25,
     "metadata": {},
     "output_type": "execute_result"
    }
   ],
   "source": [
    "df=pd.DataFrame(np.random.rand(6,4),index=d,columns=list('ABCD'))\n",
    "df#结合图细品"
   ]
  },
  {
   "cell_type": "code",
   "execution_count": 28,
   "metadata": {},
   "outputs": [
    {
     "data": {
      "text/plain": [
       "A             int64\n",
       "B    datetime64[ns]\n",
       "C           float32\n",
       "D           float32\n",
       "E          category\n",
       "F            object\n",
       "dtype: object"
      ]
     },
     "execution_count": 28,
     "metadata": {},
     "output_type": "execute_result"
    }
   ],
   "source": [
    "df2.dtypes"
   ]
  },
  {
   "cell_type": "code",
   "execution_count": 31,
   "metadata": {},
   "outputs": [
    {
     "data": {
      "text/html": [
       "<div>\n",
       "<style scoped>\n",
       "    .dataframe tbody tr th:only-of-type {\n",
       "        vertical-align: middle;\n",
       "    }\n",
       "\n",
       "    .dataframe tbody tr th {\n",
       "        vertical-align: top;\n",
       "    }\n",
       "\n",
       "    .dataframe thead th {\n",
       "        text-align: right;\n",
       "    }\n",
       "</style>\n",
       "<table border=\"1\" class=\"dataframe\">\n",
       "  <thead>\n",
       "    <tr style=\"text-align: right;\">\n",
       "      <th></th>\n",
       "      <th>A</th>\n",
       "      <th>B</th>\n",
       "      <th>C</th>\n",
       "      <th>D</th>\n",
       "      <th>E</th>\n",
       "      <th>F</th>\n",
       "    </tr>\n",
       "  </thead>\n",
       "  <tbody>\n",
       "    <tr>\n",
       "      <th>0</th>\n",
       "      <td>1</td>\n",
       "      <td>2021-06-09</td>\n",
       "      <td>1.0</td>\n",
       "      <td>3.0</td>\n",
       "      <td>test</td>\n",
       "      <td>SilveryZz</td>\n",
       "    </tr>\n",
       "    <tr>\n",
       "      <th>1</th>\n",
       "      <td>1</td>\n",
       "      <td>2021-06-09</td>\n",
       "      <td>1.0</td>\n",
       "      <td>3.0</td>\n",
       "      <td>train</td>\n",
       "      <td>SilveryZz</td>\n",
       "    </tr>\n",
       "    <tr>\n",
       "      <th>2</th>\n",
       "      <td>1</td>\n",
       "      <td>2021-06-09</td>\n",
       "      <td>1.0</td>\n",
       "      <td>3.0</td>\n",
       "      <td>test</td>\n",
       "      <td>SilveryZz</td>\n",
       "    </tr>\n",
       "    <tr>\n",
       "      <th>3</th>\n",
       "      <td>1</td>\n",
       "      <td>2021-06-09</td>\n",
       "      <td>1.0</td>\n",
       "      <td>3.0</td>\n",
       "      <td>train</td>\n",
       "      <td>SilveryZz</td>\n",
       "    </tr>\n",
       "  </tbody>\n",
       "</table>\n",
       "</div>"
      ],
      "text/plain": [
       "   A          B    C    D      E          F\n",
       "0  1 2021-06-09  1.0  3.0   test  SilveryZz\n",
       "1  1 2021-06-09  1.0  3.0  train  SilveryZz\n",
       "2  1 2021-06-09  1.0  3.0   test  SilveryZz\n",
       "3  1 2021-06-09  1.0  3.0  train  SilveryZz"
      ]
     },
     "execution_count": 31,
     "metadata": {},
     "output_type": "execute_result"
    }
   ],
   "source": [
    "df2.head()"
   ]
  },
  {
   "cell_type": "code",
   "execution_count": 32,
   "metadata": {},
   "outputs": [
    {
     "data": {
      "text/html": [
       "<div>\n",
       "<style scoped>\n",
       "    .dataframe tbody tr th:only-of-type {\n",
       "        vertical-align: middle;\n",
       "    }\n",
       "\n",
       "    .dataframe tbody tr th {\n",
       "        vertical-align: top;\n",
       "    }\n",
       "\n",
       "    .dataframe thead th {\n",
       "        text-align: right;\n",
       "    }\n",
       "</style>\n",
       "<table border=\"1\" class=\"dataframe\">\n",
       "  <thead>\n",
       "    <tr style=\"text-align: right;\">\n",
       "      <th></th>\n",
       "      <th>A</th>\n",
       "      <th>B</th>\n",
       "      <th>C</th>\n",
       "      <th>D</th>\n",
       "      <th>E</th>\n",
       "      <th>F</th>\n",
       "    </tr>\n",
       "  </thead>\n",
       "  <tbody>\n",
       "    <tr>\n",
       "      <th>1</th>\n",
       "      <td>1</td>\n",
       "      <td>2021-06-09</td>\n",
       "      <td>1.0</td>\n",
       "      <td>3.0</td>\n",
       "      <td>train</td>\n",
       "      <td>SilveryZz</td>\n",
       "    </tr>\n",
       "    <tr>\n",
       "      <th>2</th>\n",
       "      <td>1</td>\n",
       "      <td>2021-06-09</td>\n",
       "      <td>1.0</td>\n",
       "      <td>3.0</td>\n",
       "      <td>test</td>\n",
       "      <td>SilveryZz</td>\n",
       "    </tr>\n",
       "    <tr>\n",
       "      <th>3</th>\n",
       "      <td>1</td>\n",
       "      <td>2021-06-09</td>\n",
       "      <td>1.0</td>\n",
       "      <td>3.0</td>\n",
       "      <td>train</td>\n",
       "      <td>SilveryZz</td>\n",
       "    </tr>\n",
       "  </tbody>\n",
       "</table>\n",
       "</div>"
      ],
      "text/plain": [
       "   A          B    C    D      E          F\n",
       "1  1 2021-06-09  1.0  3.0  train  SilveryZz\n",
       "2  1 2021-06-09  1.0  3.0   test  SilveryZz\n",
       "3  1 2021-06-09  1.0  3.0  train  SilveryZz"
      ]
     },
     "execution_count": 32,
     "metadata": {},
     "output_type": "execute_result"
    }
   ],
   "source": [
    "df2.tail(3)"
   ]
  },
  {
   "cell_type": "code",
   "execution_count": 34,
   "metadata": {},
   "outputs": [
    {
     "data": {
      "text/plain": [
       "Int64Index([0, 1, 2, 3], dtype='int64')"
      ]
     },
     "execution_count": 34,
     "metadata": {},
     "output_type": "execute_result"
    }
   ],
   "source": [
    "df2.index"
   ]
  },
  {
   "cell_type": "code",
   "execution_count": 36,
   "metadata": {},
   "outputs": [
    {
     "data": {
      "text/plain": [
       "Index(['A', 'B', 'C', 'D', 'E', 'F'], dtype='object')"
      ]
     },
     "execution_count": 36,
     "metadata": {},
     "output_type": "execute_result"
    }
   ],
   "source": [
    "df2.columns"
   ]
  },
  {
   "cell_type": "code",
   "execution_count": 40,
   "metadata": {},
   "outputs": [
    {
     "data": {
      "text/html": [
       "<div>\n",
       "<style scoped>\n",
       "    .dataframe tbody tr th:only-of-type {\n",
       "        vertical-align: middle;\n",
       "    }\n",
       "\n",
       "    .dataframe tbody tr th {\n",
       "        vertical-align: top;\n",
       "    }\n",
       "\n",
       "    .dataframe thead th {\n",
       "        text-align: right;\n",
       "    }\n",
       "</style>\n",
       "<table border=\"1\" class=\"dataframe\">\n",
       "  <thead>\n",
       "    <tr style=\"text-align: right;\">\n",
       "      <th></th>\n",
       "      <th>A</th>\n",
       "      <th>B</th>\n",
       "      <th>C</th>\n",
       "      <th>D</th>\n",
       "    </tr>\n",
       "  </thead>\n",
       "  <tbody>\n",
       "    <tr>\n",
       "      <th>count</th>\n",
       "      <td>6.000000</td>\n",
       "      <td>6.000000</td>\n",
       "      <td>6.000000</td>\n",
       "      <td>6.000000</td>\n",
       "    </tr>\n",
       "    <tr>\n",
       "      <th>mean</th>\n",
       "      <td>0.640737</td>\n",
       "      <td>0.439705</td>\n",
       "      <td>0.736727</td>\n",
       "      <td>0.536988</td>\n",
       "    </tr>\n",
       "    <tr>\n",
       "      <th>std</th>\n",
       "      <td>0.269046</td>\n",
       "      <td>0.268838</td>\n",
       "      <td>0.178798</td>\n",
       "      <td>0.287729</td>\n",
       "    </tr>\n",
       "    <tr>\n",
       "      <th>min</th>\n",
       "      <td>0.222401</td>\n",
       "      <td>0.146791</td>\n",
       "      <td>0.487846</td>\n",
       "      <td>0.029889</td>\n",
       "    </tr>\n",
       "    <tr>\n",
       "      <th>25%</th>\n",
       "      <td>0.486682</td>\n",
       "      <td>0.295371</td>\n",
       "      <td>0.629260</td>\n",
       "      <td>0.465087</td>\n",
       "    </tr>\n",
       "    <tr>\n",
       "      <th>50%</th>\n",
       "      <td>0.769131</td>\n",
       "      <td>0.340023</td>\n",
       "      <td>0.749486</td>\n",
       "      <td>0.585570</td>\n",
       "    </tr>\n",
       "    <tr>\n",
       "      <th>75%</th>\n",
       "      <td>0.775008</td>\n",
       "      <td>0.585892</td>\n",
       "      <td>0.834589</td>\n",
       "      <td>0.697398</td>\n",
       "    </tr>\n",
       "    <tr>\n",
       "      <th>max</th>\n",
       "      <td>0.914258</td>\n",
       "      <td>0.863058</td>\n",
       "      <td>0.981403</td>\n",
       "      <td>0.861299</td>\n",
       "    </tr>\n",
       "  </tbody>\n",
       "</table>\n",
       "</div>"
      ],
      "text/plain": [
       "              A         B         C         D\n",
       "count  6.000000  6.000000  6.000000  6.000000\n",
       "mean   0.640737  0.439705  0.736727  0.536988\n",
       "std    0.269046  0.268838  0.178798  0.287729\n",
       "min    0.222401  0.146791  0.487846  0.029889\n",
       "25%    0.486682  0.295371  0.629260  0.465087\n",
       "50%    0.769131  0.340023  0.749486  0.585570\n",
       "75%    0.775008  0.585892  0.834589  0.697398\n",
       "max    0.914258  0.863058  0.981403  0.861299"
      ]
     },
     "execution_count": 40,
     "metadata": {},
     "output_type": "execute_result"
    }
   ],
   "source": [
    "df.describe()"
   ]
  },
  {
   "cell_type": "code",
   "execution_count": 41,
   "metadata": {},
   "outputs": [
    {
     "data": {
      "text/html": [
       "<div>\n",
       "<style scoped>\n",
       "    .dataframe tbody tr th:only-of-type {\n",
       "        vertical-align: middle;\n",
       "    }\n",
       "\n",
       "    .dataframe tbody tr th {\n",
       "        vertical-align: top;\n",
       "    }\n",
       "\n",
       "    .dataframe thead th {\n",
       "        text-align: right;\n",
       "    }\n",
       "</style>\n",
       "<table border=\"1\" class=\"dataframe\">\n",
       "  <thead>\n",
       "    <tr style=\"text-align: right;\">\n",
       "      <th></th>\n",
       "      <th>D</th>\n",
       "      <th>C</th>\n",
       "      <th>B</th>\n",
       "      <th>A</th>\n",
       "    </tr>\n",
       "  </thead>\n",
       "  <tbody>\n",
       "    <tr>\n",
       "      <th>2012-12-13</th>\n",
       "      <td>0.720818</td>\n",
       "      <td>0.487846</td>\n",
       "      <td>0.863058</td>\n",
       "      <td>0.775585</td>\n",
       "    </tr>\n",
       "    <tr>\n",
       "      <th>2012-12-14</th>\n",
       "      <td>0.544001</td>\n",
       "      <td>0.667311</td>\n",
       "      <td>0.343744</td>\n",
       "      <td>0.393914</td>\n",
       "    </tr>\n",
       "    <tr>\n",
       "      <th>2012-12-15</th>\n",
       "      <td>0.029889</td>\n",
       "      <td>0.831660</td>\n",
       "      <td>0.281727</td>\n",
       "      <td>0.773277</td>\n",
       "    </tr>\n",
       "    <tr>\n",
       "      <th>2012-12-16</th>\n",
       "      <td>0.861299</td>\n",
       "      <td>0.616577</td>\n",
       "      <td>0.336302</td>\n",
       "      <td>0.222401</td>\n",
       "    </tr>\n",
       "    <tr>\n",
       "      <th>2012-12-17</th>\n",
       "      <td>0.627138</td>\n",
       "      <td>0.835565</td>\n",
       "      <td>0.146791</td>\n",
       "      <td>0.764986</td>\n",
       "    </tr>\n",
       "    <tr>\n",
       "      <th>2012-12-18</th>\n",
       "      <td>0.438783</td>\n",
       "      <td>0.981403</td>\n",
       "      <td>0.666609</td>\n",
       "      <td>0.914258</td>\n",
       "    </tr>\n",
       "  </tbody>\n",
       "</table>\n",
       "</div>"
      ],
      "text/plain": [
       "                   D         C         B         A\n",
       "2012-12-13  0.720818  0.487846  0.863058  0.775585\n",
       "2012-12-14  0.544001  0.667311  0.343744  0.393914\n",
       "2012-12-15  0.029889  0.831660  0.281727  0.773277\n",
       "2012-12-16  0.861299  0.616577  0.336302  0.222401\n",
       "2012-12-17  0.627138  0.835565  0.146791  0.764986\n",
       "2012-12-18  0.438783  0.981403  0.666609  0.914258"
      ]
     },
     "execution_count": 41,
     "metadata": {},
     "output_type": "execute_result"
    }
   ],
   "source": [
    "df.sort_index(axis=1,ascending=False)#ascending就是升序"
   ]
  },
  {
   "cell_type": "code",
   "execution_count": 42,
   "metadata": {},
   "outputs": [
    {
     "data": {
      "text/html": [
       "<div>\n",
       "<style scoped>\n",
       "    .dataframe tbody tr th:only-of-type {\n",
       "        vertical-align: middle;\n",
       "    }\n",
       "\n",
       "    .dataframe tbody tr th {\n",
       "        vertical-align: top;\n",
       "    }\n",
       "\n",
       "    .dataframe thead th {\n",
       "        text-align: right;\n",
       "    }\n",
       "</style>\n",
       "<table border=\"1\" class=\"dataframe\">\n",
       "  <thead>\n",
       "    <tr style=\"text-align: right;\">\n",
       "      <th></th>\n",
       "      <th>A</th>\n",
       "      <th>B</th>\n",
       "      <th>C</th>\n",
       "      <th>D</th>\n",
       "    </tr>\n",
       "  </thead>\n",
       "  <tbody>\n",
       "    <tr>\n",
       "      <th>2012-12-17</th>\n",
       "      <td>0.764986</td>\n",
       "      <td>0.146791</td>\n",
       "      <td>0.835565</td>\n",
       "      <td>0.627138</td>\n",
       "    </tr>\n",
       "    <tr>\n",
       "      <th>2012-12-15</th>\n",
       "      <td>0.773277</td>\n",
       "      <td>0.281727</td>\n",
       "      <td>0.831660</td>\n",
       "      <td>0.029889</td>\n",
       "    </tr>\n",
       "    <tr>\n",
       "      <th>2012-12-16</th>\n",
       "      <td>0.222401</td>\n",
       "      <td>0.336302</td>\n",
       "      <td>0.616577</td>\n",
       "      <td>0.861299</td>\n",
       "    </tr>\n",
       "    <tr>\n",
       "      <th>2012-12-14</th>\n",
       "      <td>0.393914</td>\n",
       "      <td>0.343744</td>\n",
       "      <td>0.667311</td>\n",
       "      <td>0.544001</td>\n",
       "    </tr>\n",
       "    <tr>\n",
       "      <th>2012-12-18</th>\n",
       "      <td>0.914258</td>\n",
       "      <td>0.666609</td>\n",
       "      <td>0.981403</td>\n",
       "      <td>0.438783</td>\n",
       "    </tr>\n",
       "    <tr>\n",
       "      <th>2012-12-13</th>\n",
       "      <td>0.775585</td>\n",
       "      <td>0.863058</td>\n",
       "      <td>0.487846</td>\n",
       "      <td>0.720818</td>\n",
       "    </tr>\n",
       "  </tbody>\n",
       "</table>\n",
       "</div>"
      ],
      "text/plain": [
       "                   A         B         C         D\n",
       "2012-12-17  0.764986  0.146791  0.835565  0.627138\n",
       "2012-12-15  0.773277  0.281727  0.831660  0.029889\n",
       "2012-12-16  0.222401  0.336302  0.616577  0.861299\n",
       "2012-12-14  0.393914  0.343744  0.667311  0.544001\n",
       "2012-12-18  0.914258  0.666609  0.981403  0.438783\n",
       "2012-12-13  0.775585  0.863058  0.487846  0.720818"
      ]
     },
     "execution_count": 42,
     "metadata": {},
     "output_type": "execute_result"
    }
   ],
   "source": [
    "df.sort_values(by='B')"
   ]
  }
 ],
 "metadata": {
  "kernelspec": {
   "display_name": "base",
   "language": "python",
   "name": "python3"
  },
  "language_info": {
   "codemirror_mode": {
    "name": "ipython",
    "version": 3
   },
   "file_extension": ".py",
   "mimetype": "text/x-python",
   "name": "python",
   "nbconvert_exporter": "python",
   "pygments_lexer": "ipython3",
   "version": "3.10.9"
  }
 },
 "nbformat": 4,
 "nbformat_minor": 2
}
